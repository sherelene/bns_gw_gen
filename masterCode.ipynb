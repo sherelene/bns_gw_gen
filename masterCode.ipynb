{
  "nbformat": 4,
  "nbformat_minor": 0,
  "metadata": {
    "colab": {
      "name": "masterCode.ipynb",
      "provenance": [],
      "collapsed_sections": []
    },
    "kernelspec": {
      "name": "python3",
      "display_name": "Python 3"
    },
    "language_info": {
      "name": "python"
    },
    "accelerator": "GPU"
  },
  "cells": [
    {
      "cell_type": "code",
      "metadata": {
        "id": "nRXMoY7HBLRk"
      },
      "source": [
        "! git clone https://github.com/matteobreschi/bajes.git"
      ],
      "execution_count": null,
      "outputs": []
    },
    {
      "cell_type": "code",
      "metadata": {
        "id": "4x0tyVUhCVFi"
      },
      "source": [
        "!pip install pycbc lalsuite ligo-common\n",
        "!pip install gwpy\n",
        "\n",
        "import gwpy\n",
        "from gwpy.timeseries import TimeSeries"
      ],
      "execution_count": null,
      "outputs": []
    },
    {
      "cell_type": "code",
      "metadata": {
        "id": "nXePtjaxBmW3"
      },
      "source": [
        "%cd bajes\n",
        "! ls\n",
        "! python setup.py install"
      ],
      "execution_count": null,
      "outputs": []
    },
    {
      "cell_type": "code",
      "metadata": {
        "id": "JIQ79R4HCljv"
      },
      "source": [
        "from __future__ import division, print_function\n",
        "import numpy as np\n",
        "import matplotlib.pyplot as plt\n",
        "from bajes.obs.gw import Series\n",
        "from bajes.obs.gw import Noise\n",
        "from bajes.obs.gw.utils import read_asd\n"
      ],
      "execution_count": 3,
      "outputs": []
    },
    {
      "cell_type": "code",
      "metadata": {
        "id": "btCJOgMXMV1E"
      },
      "source": [
        "time_of_event = 1126259462\n",
        "\n",
        "post_trigger_duration =4\n",
        "duration = 8\n",
        "analysis_start = time_of_event + post_trigger_duration - duration\n",
        "\n",
        "# Use gwpy to fetch the open data\n",
        "H1_analysis_data = TimeSeries.fetch_open_data(\n",
        "    \"H1\", analysis_start, analysis_start + duration, sample_rate=4096, cache=True)\n",
        "\n",
        "t = H1_analysis_data.times\n",
        "strain = H1_analysis_data.value\n",
        "\n",
        "# set the data properties coherently\n",
        "seglen = 8           # duration of the segment [s]\n",
        "srate  = 4096         # sampling rate [Hz]\n",
        "t_gps  = 1126259462   # central value of GPS time\n",
        "f_max  = 1024\n",
        "f_min  = 20 \n",
        "\n",
        "series = Series('time', strain, seglen=seglen, srate=srate, t_gps=t_gps, f_min=f_min, f_max=f_max)\n",
        "\n",
        "from bajes.obs.gw import Noise\n",
        "from bajes.obs.gw.utils import read_asd\n",
        "\n",
        "fr_asd, asd = read_asd('GW150914', 'H1')\n",
        "noise       = Noise(fr_asd, asd, f_min=0, f_max=f_max)\n",
        "\n",
        "from bajes.obs.gw import Detector, Waveform\n",
        "\n",
        "wave  = Waveform(series.freqs, srate, seglen, 'NRPM')"
      ],
      "execution_count": 4,
      "outputs": []
    },
    {
      "cell_type": "code",
      "metadata": {
        "id": "RGzPZg4rjt8X",
        "colab": {
          "base_uri": "https://localhost:8080/"
        },
        "outputId": "2e378417-5b41-46a6-af46-59722f11255a"
      },
      "source": [
        "#easily figure out chirp mass and mass ratio of differing solar masses\n",
        "import math\n",
        "\n",
        "m1 = 2\n",
        "m2 = 1.3\n",
        "\n",
        "chirp_mass = (math.pow((m1 * m2), (3/5))) / (math.pow((m1 + m2), (1/5)))\n",
        "q = m1 / m2  #m1 has to be the bigger number\n",
        "\n",
        "print(chirp_mass)\n",
        "print(q)"
      ],
      "execution_count": 20,
      "outputs": [
        {
          "output_type": "stream",
          "text": [
            "1.397272851028956\n",
            "1.5384615384615383\n"
          ],
          "name": "stdout"
        }
      ]
    },
    {
      "cell_type": "code",
      "metadata": {
        "colab": {
          "base_uri": "https://localhost:8080/",
          "height": 318
        },
        "id": "C-5TvuJANRxr",
        "outputId": "9a272d24-ba93-4d61-81cb-32e452c81582"
      },
      "source": [
        "params = {'mchirp'     : 1.397272851028956,    # chirp mass [solar masses] \n",
        "          'q'          : 1.5384615384615383,      # mass ratio \n",
        "          's1x'        : 0.,      # primary spin parameter, x component\n",
        "          's1y'        : 0.,      # primary spin parameter, y component\n",
        "          's1z'        : 0.,      # primary spin parameter, z component\n",
        "          's2x'        : 0.,      # secondary spin parameter, x component\n",
        "          's2y'        : 0.,      # secondary spin parameter, y component\n",
        "          's2z'        : 0.,      # secondary spin parameter, z component\n",
        "          'lambda1'    : 400,    # primary tidal parameter \n",
        "          'lambda2'    : 400 ,    # secondary tidal parameter\n",
        "          'distance'   : 380.,    # distance [Mpc]\n",
        "          'iota'       : np.pi,   # inclination [rad]\n",
        "          'ra'         : 1.7,     # right ascension [rad]\n",
        "          'dec'        : -0.75,   # declination [rad]\n",
        "          'psi'        : 0.,      # polarization angle [rad]\n",
        "          'time_shift' : 0.419,   # time shift from GPS time [s]\n",
        "          'phi_ref'    : 0.,      # phase shift [rad]\n",
        "          'f_min'      : 20.,     # minimum frequency [Hz]\n",
        "          'srate'      : srate,   # sampling rate [Hz]\n",
        "          'seglen'     : seglen,  # segment duration [s] \n",
        "          'tukey'      : 0.1,     # parameter for tukey window \n",
        "          't_gps'      : t_gps }  # GPS trigger time \n",
        "\n",
        "\n",
        "hpc = wave.compute_hphc(params)\n",
        "\n",
        "plt.title('GW template')\n",
        "plt.plot(series.times, hpc.plus, label = 'h+')\n",
        "plt.xlabel('GPS time [s]')\n",
        "plt.xlim((t_gps-0.002, t_gps+0.02))\n",
        "plt.legend()\n"
      ],
      "execution_count": 21,
      "outputs": [
        {
          "output_type": "execute_result",
          "data": {
            "text/plain": [
              "<matplotlib.legend.Legend at 0x7f9732457ad0>"
            ]
          },
          "metadata": {
            "tags": []
          },
          "execution_count": 21
        },
        {
          "output_type": "display_data",
          "data": {
            "image/png": "[encoded data removed]",
            "text/plain": [
              "<Figure size 432x288 with 1 Axes>"
            ]
          },
          "metadata": {
            "tags": [],
            "needs_background": "light"
          }
        }
      ]
    },
    {
      "cell_type": "code",
      "metadata": {
        "id": "hQfuxCvT3W6b"
      },
      "source": [
        ""
      ],
      "execution_count": null,
      "outputs": []
    }
  ]
}