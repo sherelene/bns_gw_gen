{
  "nbformat": 4,
  "nbformat_minor": 0,
  "metadata": {
    "colab": {
      "name": "masterCode NRPM.ipynb",
      "provenance": [],
      "collapsed_sections": [],
      "authorship_tag": "ABX9TyMgqFHuCgC4OL2GBezae9oF"
    },
    "kernelspec": {
      "name": "python3",
      "display_name": "Python 3"
    },
    "language_info": {
      "name": "python"
    }
  },
  "cells": [
    {
      "cell_type": "code",
      "metadata": {
        "id": "U01_WVt-mPo4"
      },
      "source": [
        "! git clone https://github.com/matteobreschi/bajes.git"
      ],
      "execution_count": null,
      "outputs": []
    },
    {
      "cell_type": "code",
      "metadata": {
        "id": "07cDOf84mTDe"
      },
      "source": [
        "!pip install pycbc lalsuite ligo-common\n",
        "!pip install gwpy\n",
        "\n",
        "import gwpy\n",
        "from gwpy.timeseries import TimeSeries"
      ],
      "execution_count": null,
      "outputs": []
    },
    {
      "cell_type": "code",
      "metadata": {
        "id": "ZxPqX2a5mRWB"
      },
      "source": [
        "%cd bajes\n",
        "! ls\n",
        "! python setup.py install"
      ],
      "execution_count": null,
      "outputs": []
    },
    {
      "cell_type": "code",
      "metadata": {
        "id": "OysGQA00mfHD"
      },
      "source": [
        "from __future__ import division, print_function\n",
        "import numpy as np\n",
        "import matplotlib.pyplot as plt\n",
        "from bajes.obs.gw import Series\n",
        "from bajes.obs.gw import Noise\n",
        "from bajes.obs.gw.utils import read_asd"
      ],
      "execution_count": 3,
      "outputs": []
    },
    {
      "cell_type": "code",
      "metadata": {
        "id": "qnuzPS3AmhYy"
      },
      "source": [
        "time_of_event = 1126259462\n",
        "\n",
        "post_trigger_duration =4\n",
        "duration = 8\n",
        "analysis_start = time_of_event + post_trigger_duration - duration\n",
        "\n",
        "# Use gwpy to fetch the open data\n",
        "H1_analysis_data = TimeSeries.fetch_open_data(\n",
        "    \"H1\", analysis_start, analysis_start + duration, sample_rate=4096, cache=True)\n",
        "\n",
        "t = H1_analysis_data.times\n",
        "strain = H1_analysis_data.value\n",
        "\n",
        "# set the data properties coherently\n",
        "seglen = 8           # duration of the segment [s]\n",
        "srate  = 4096         # sampling rate [Hz]\n",
        "t_gps  = 1126259462   # central value of GPS time\n",
        "f_max  = 1024\n",
        "f_min  = 20 \n",
        "\n",
        "\n",
        "series = Series('time', strain, seglen=seglen, srate=srate, t_gps=t_gps, f_min=f_min, f_max=f_max)\n",
        "\n",
        "\n",
        "from bajes.obs.gw import Noise\n",
        "from bajes.obs.gw.utils import read_asd\n",
        "\n",
        "fr_asd, asd = read_asd('GW150914', 'H1')\n",
        "noise       = Noise(fr_asd, asd, f_min=0, f_max=f_max)"
      ],
      "execution_count": 4,
      "outputs": []
    },
    {
      "cell_type": "code",
      "metadata": {
        "id": "XZMWRw7CmjHk"
      },
      "source": [
        "from bajes.obs.gw import Detector, Waveform\n",
        "\n",
        "w  = Waveform(series.freqs, srate, seglen, 'NRPM')"
      ],
      "execution_count": null,
      "outputs": []
    },
    {
      "cell_type": "code",
      "metadata": {
        "colab": {
          "base_uri": "https://localhost:8080/"
        },
        "id": "JJ3Be_wb3el0",
        "outputId": "892951ae-5824-4827-d807-45de025bb3d9"
      },
      "source": [
        "#easily figure out chirp mass and mass ratio of differing solar masses\n",
        "import math\n",
        "\n",
        "m1 = 1.4\n",
        "m2 = 1.4\n",
        "\n",
        "chirp_mass = (math.pow((m1 * m2), (3/5))) / (math.pow((m1 + m2), (1/5)))\n",
        "q = m1 / m2  #m1 has to be the bigger number\n",
        "\n",
        "print(chirp_mass)\n",
        "print(q)"
      ],
      "execution_count": 33,
      "outputs": [
        {
          "output_type": "stream",
          "text": [
            "1.2187707886145736\n",
            "1.0\n"
          ],
          "name": "stdout"
        }
      ]
    },
    {
      "cell_type": "code",
      "metadata": {
        "id": "FEiHNr6Yoz33",
        "colab": {
          "base_uri": "https://localhost:8080/",
          "height": 282
        },
        "outputId": "00b31e44-785b-485d-9e77-57251c4db013"
      },
      "source": [
        "\n",
        "pars = {'mchirp': 1.2,                      #chirp mass [solar masses]\n",
        "        'q': 1,                             #mass ratio\n",
        "        's1z': -0.3739217370215754,         #primary spin parameter, x component\n",
        "        's2z': 0.051327256997597694,        #primary spin parameter, y component\n",
        "        's1x': 0.,                          #primary spin parameter, z component\n",
        "        's2x': 0.,                          #secondary spin parameter, x component\n",
        "        's1y': 0.,                          #secondary spin parameter, y component\n",
        "        's2y': 0.,                          #secondary spin parameter, z component\n",
        "        'lambda1':400,                      # primary tidal parameter \n",
        "        'lambda2':400,                      # secondary tidal parameter\n",
        "        'iota'       : np.pi,               # inclination [rad] \n",
        "        'ra'         : 1.7,                 # right ascension [rad]\n",
        "        'dec'        : -0.75,               # declination [rad]\n",
        "        'psi'        : 0.,                  # polarization angle [rad]\n",
        "        'time_shift' : 0.419,               # time shift from GPS time [s]\n",
        "        'f_min':30,                         # minimum frequency [Hz]\n",
        "        'srate':srate,                      # sampling rate [Hz]\n",
        "        'distance': 100.8114416513031, \n",
        "        'phi_ref':0,\n",
        "        'tukey':0.1,                        # parameter for tukey window \n",
        "        'seglen': seglen,                   # segment duration [s] \n",
        "        't_gps'      : t_gps   # GPS trigger time \n",
        "}\n",
        "\n",
        "hp, hc = w.compute_hphc(pars)\n",
        "t = np.linspace(0, len(hp)/srate, len(hp))\n",
        "plt.plot(t, hp)\n",
        "plt.xlim(4-0.01, 4+0.01)\n",
        "plt.show()"
      ],
      "execution_count": 51,
      "outputs": [
        {
          "output_type": "display_data",
          "data": {
            "image/png": "[encoded data removed]",
            "text/plain": [
              "<Figure size 432x288 with 1 Axes>"
            ]
          },
          "metadata": {
            "tags": [],
            "needs_background": "light"
          }
        }
      ]
    }
  ]
}