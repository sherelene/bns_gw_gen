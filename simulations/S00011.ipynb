{
  "nbformat": 4,
  "nbformat_minor": 0,
  "metadata": {
    "colab": {
      "name": "S00011.ipynb",
      "provenance": [],
      "collapsed_sections": []
    },
    "kernelspec": {
      "name": "python3",
      "display_name": "Python 3"
    },
    "language_info": {
      "name": "python"
    }
  },
  "cells": [
    {
      "cell_type": "code",
      "metadata": {
        "id": "nRXMoY7HBLRk"
      },
      "source": [
        "! git clone https://github.com/matteobreschi/bajes.git"
      ],
      "execution_count": null,
      "outputs": []
    },
    {
      "cell_type": "code",
      "metadata": {
        "id": "4x0tyVUhCVFi"
      },
      "source": [
        "!pip install pycbc lalsuite ligo-common #might have to restart runtime before this cell works\n",
        "!pip install gwpy\n",
        "\n",
        "import gwpy\n",
        "from gwpy.timeseries import TimeSeries"
      ],
      "execution_count": null,
      "outputs": []
    },
    {
      "cell_type": "code",
      "metadata": {
        "id": "nXePtjaxBmW3"
      },
      "source": [
        "%cd bajes\n",
        "! ls\n",
        "! python setup.py install"
      ],
      "execution_count": null,
      "outputs": []
    },
    {
      "cell_type": "code",
      "metadata": {
        "id": "JIQ79R4HCljv"
      },
      "source": [
        "from __future__ import division, print_function\n",
        "import numpy as np\n",
        "import matplotlib.pyplot as plt\n",
        "import pandas as pd\n",
        "from bajes.obs.gw import Series\n",
        "from bajes.obs.gw import Noise\n",
        "from bajes.obs.gw.utils import read_asd\n",
        "import csv\n",
        "import pandas as pd\n",
        "\n",
        "from google.colab import drive #import drive so csv file wont just save during runtime\n",
        "drive.mount('/content/drive/', force_remount = True)\n",
        "\n"
      ],
      "execution_count": null,
      "outputs": []
    },
    {
      "cell_type": "code",
      "metadata": {
        "id": "btCJOgMXMV1E"
      },
      "source": [
        "time_of_event = 1126259462\n",
        "\n",
        "post_trigger_duration =4\n",
        "duration = 8\n",
        "analysis_start = time_of_event + post_trigger_duration - duration\n",
        "\n",
        "# Use gwpy to fetch the open data\n",
        "H1_analysis_data = TimeSeries.fetch_open_data(\n",
        "    \"H1\", analysis_start, analysis_start + duration, sample_rate=4096, cache=True)\n",
        "\n",
        "t = H1_analysis_data.times\n",
        "strain = H1_analysis_data.value\n",
        "\n",
        "# set the data properties coherently\n",
        "seglen = 8           # duration of the segment [s]\n",
        "srate  = 4096         # sampling rate [Hz]\n",
        "t_gps  = 1126259462   # central value of GPS time\n",
        "f_max  = 1024\n",
        "f_min  = 20 \n",
        "\n",
        "series = Series('time', strain, seglen=seglen, srate=srate, t_gps=t_gps, f_min=f_min, f_max=f_max)\n",
        "\n",
        "from bajes.obs.gw import Noise\n",
        "from bajes.obs.gw.utils import read_asd\n",
        "\n",
        "fr_asd, asd = read_asd('GW150914', 'H1')\n",
        "noise       = Noise(fr_asd, asd, f_min=0, f_max=f_max)\n",
        "\n",
        "from bajes.obs.gw import Detector, Waveform\n",
        "\n",
        "wave  = Waveform(series.freqs, srate, seglen, 'NRPM')"
      ],
      "execution_count": 5,
      "outputs": []
    },
    {
      "cell_type": "code",
      "metadata": {
        "id": "slbvdarrozER",
        "colab": {
          "base_uri": "https://localhost:8080/",
          "height": 301
        },
        "outputId": "32790580-de23-4fd2-8574-a6150f1b3d52"
      },
      "source": [
        "\n",
        "import math\n",
        "import random\n",
        "\n",
        "#get a float random number between 1-3, and round the number to one decimal place for the binary neutron star masses\n",
        "m1 = round(random.uniform(1, 3), 1) \n",
        "m2 = round(random.uniform(1, 3), 1)\n",
        "\n",
        "# m1 has to be bigger than m2 for the proper mass ratio \n",
        "if m1 > m2:\n",
        "  chirp_mass = (math.pow((m1 * m2), (3/5))) / (math.pow((m1 + m2), (1/5))) \n",
        "  q = m1 / m2  #calculates the mass ratio\n",
        "elif m1 < m2:\n",
        "  while m1 < m2:\n",
        "    m1 = round(random.uniform(1, 3), 1)\n",
        "    m2 = round(random.uniform(1, 3), 1)\n",
        "chirp_mass = (math.pow((m1 * m2), (3/5))) / (math.pow((m1 + m2), (1/5)))\n",
        "q = m1 / m2  \n",
        "\n",
        "params = {'mchirp'     : chirp_mass,    # chirp mass [solar masses] \n",
        "              'q'          : q,      # mass ratio \n",
        "              's1x'        : 0.,      # primary spin parameter, x component\n",
        "              's1y'        : 0.,      # primary spin parameter, y component\n",
        "              's1z'        : 0.,      # primary spin parameter, z component\n",
        "              's2x'        : 0.,      # secondary spin parameter, x component\n",
        "              's2y'        : 0.,      # secondary spin parameter, y component\n",
        "              's2z'        : 0.,      # secondary spin parameter, z component\n",
        "              'lambda1'    : 400.,    # primary tidal parameter \n",
        "              'lambda2'    : 400. ,    # secondary tidal parameter\n",
        "              'distance'   : 100.8114416513031,    # distance [Mpc]   \n",
        "              'iota'       : np.pi,   # inclination [rad]   \n",
        "              'ra'         : 0.,     # right ascension [rad]\n",
        "              'dec'        : 0.,   # declination [rad]\n",
        "              'psi'        : 0.,      # polarization angle [rad]\n",
        "              'time_shift' : 0.419,   # time shift from GPS time [s]\n",
        "              'phi_ref'    : 0.,      # phase shift [rad]\n",
        "              'f_min'      : 20.,     # minimum frequency [Hz]\n",
        "              'srate'      : srate,   # sampling rate [Hz]\n",
        "              'seglen'     : seglen,  # segment duration [s] \n",
        "              'tukey'      : 0.1,     # parameter for tukey window\n",
        "              't_gps'      : t_gps, \n",
        "             }  # GPS trigger time\n",
        "\n",
        "hpc = wave.compute_hphc(params)\n",
        "\n",
        "plt.title('GW template')\n",
        "plt.plot(series.times, hpc.plus, label = 'h+')\n",
        "plt.xlabel('GPS time [s]')\n",
        "plt.xlim((t_gps-0.005, t_gps+0.025))\n",
        "plt.legend() \n",
        "\n",
        "\n",
        "new_params = params #put params in new dictionary\n",
        "new_params[\"m1\"] = m1 #add m1 to new dictionary\n",
        "new_params[\"m2\"] = m2 #add m2 to new dictionary\n",
        "new_params[\"mtot\"] = round((m1 + m2), 1) #change mtot from params into a float with only 1 decimal point\n"
      ],
      "execution_count": 9,
      "outputs": [
        {
          "output_type": "display_data",
          "data": {
            "image/png": "[encoded data removed]",
            "text/plain": [
              "<Figure size 432x288 with 1 Axes>"
            ]
          },
          "metadata": {
            "tags": [],
            "needs_background": "light"
          }
        }
      ]
    },
    {
      "cell_type": "code",
      "metadata": {
        "id": "xahKUsEeRzcl",
        "colab": {
          "base_uri": "https://localhost:8080/"
        },
        "outputId": "17b049b2-c489-449e-b0d2-c9602bc9960c"
      },
      "source": [
        "#change the file name for each sim run\n",
        "#document the masses so you can keep track of repeats\n",
        "new_params[\"file name\"] = \"S00011.ipynb\"\n",
        "print(m1, m2)"
      ],
      "execution_count": 11,
      "outputs": [
        {
          "output_type": "stream",
          "text": [
            "1.9 1.6\n"
          ],
          "name": "stdout"
        }
      ]
    },
    {
      "cell_type": "code",
      "metadata": {
        "id": "F1EiIXMIQd0E"
      },
      "source": [
        "#Run this cell for the very first run ONLY\n",
        "#makes a data frame from new_params and makes a brand new csv file with it\n",
        "'''df = pd.DataFrame.from_dict([new_params])\n",
        "df.to_csv('/content/drive/MyDrive/Colab_Notebooks/metadata.csv', sep= '\\t', index = False)''' \n"
      ],
      "execution_count": 8,
      "outputs": []
    },
    {
      "cell_type": "code",
      "metadata": {
        "id": "kCR-JxxmRHbE"
      },
      "source": [
        "#Run this cell for second run and up\n",
        "#appends existing csv file\n",
        "from csv import DictWriter\n",
        "\n",
        "def append_dict_as_row(file_name, dict_of_elem, field_names):\n",
        "    # Open file in append mode\n",
        "    with open(file_name, 'a+', newline='') as write_obj:\n",
        "        # Create a writer object from csv module\n",
        "        dict_writer = DictWriter(write_obj, delimiter = '\\t', fieldnames=field_names, )\n",
        "        # Add dictionary as wor in the csv\n",
        "        dict_writer.writerow(dict_of_elem)\n",
        "\n",
        "field_names = ['mchirp', 'q', 's1x', 's1y', 's1z', 's2x', 's2y', 's2z', \n",
        "               'lambda1', 'lambda2', 'distance','iota', 'ra', 'dec', 'psi','time_shift',\n",
        "               'phi_ref', 'f_min', 'srate', 'seglen', 'tukey', 't_gps', 'm1', 'm2', 'mtot', 'file name'\n",
        "               ]\n",
        "\n",
        "row_dict = new_params\n",
        "# Append a dict as a row in csv file\n",
        "append_dict_as_row('/content/drive/MyDrive/Colab_Notebooks/metadata.csv', row_dict, field_names)"
      ],
      "execution_count": 12,
      "outputs": []
    }
  ]
}